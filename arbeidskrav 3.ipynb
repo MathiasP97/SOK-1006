{
 "cells": [
  {
   "cell_type": "markdown",
   "id": "154aef80-ecdb-4f3b-800c-360535d5ae10",
   "metadata": {},
   "source": [
    "# SOK-1006 V23\n",
    "\n",
    "## Arbeidskrav 3\n",
    "\n",
    "### Frist fredag 10. februar kl 18.00 i Canvas\n",
    "\n",
    "**Lever inn lenken til ditt repo på GitHub hvor løsningen ligger**. Individuell innlevering.\n",
    "\n",
    "Se Jupyter notatblokk \"Forsmak mappe 1\" for et forslag til fremgangsmåte her, og kap 9 i boka. Samt forelesning 08.02.\n",
    "\n",
    "Vi ser på markedet for oppdrettslaks på s. 101-104 i boka, og som vi har analysert i forelesning 5.      \n",
    "\n",
    "Med en stykkavgift på $t$ kr per enhet pålagt selgere kan vi skrive etterspørsel og tilbud i (1) og (2):   \n",
    "\n",
    "\n",
    "\\begin{equation}\n",
    "   x^{D}= 500 -3.2p\\tag{1}\n",
    "\\end{equation}\n",
    "\n",
    "og tilbud:\n",
    "\n",
    "\n",
    "\\begin{equation}\n",
    "   x^{S}= -100 + 4.3(p-t)\\tag{2}\n",
    "\\end{equation}\n",
    "\n",
    "1. Finn likevektspris og -kvantum for alle verdier av $t$.        \n",
    "2. Finn uttrykk for konsument- og produsentoverskudd, samt avgiftproveny.           \n",
    "2. Tegn likevekten for $t=0$ og fargelegg KO og PO.     \n",
    "2. Tegn inn likevekten for $t=4$, og fargelegg avgiftproveny.      \n",
    "4. Bruk de uttrykkene som du har laget for å fylle ut følgende tabell. NB det er mening at du skal fylle ut tabellen med uttrykk som du har regnet i koden (ikke skriv inn tall manuelt - se Forsmak mappe 1.ipynb)."
   ]
  },
  {
   "cell_type": "code",
   "execution_count": 1,
   "id": "2d42d26f-07c5-49a6-8ebd-b79acdb98133",
   "metadata": {},
   "outputs": [],
   "source": [
    "import numpy as np\n",
    "from matplotlib import pyplot as plt\n",
    "import sympy as sp"
   ]
  },
  {
   "cell_type": "code",
   "execution_count": 10,
   "id": "06803e2b-a942-461f-8152-d8262acf0a1a",
   "metadata": {},
   "outputs": [],
   "source": [
    "def demand(p):\n",
    "    return 500 - 3.2*p\n",
    "\n",
    "def supply(p,t):\n",
    "    return -100 + 4.3*(p-t)\n",
    "\n",
    "#Definering av funksjoner"
   ]
  },
  {
   "cell_type": "code",
   "execution_count": 11,
   "id": "76a26352-da44-4c96-84a7-839e81e57995",
   "metadata": {},
   "outputs": [
    {
     "data": {
      "text/latex": [
       "$\\displaystyle 500 - 3.2 p = 4.3 p - 4.3 t - 100$"
      ],
      "text/plain": [
       "Eq(500 - 3.2*p, 4.3*p - 4.3*t - 100)"
      ]
     },
     "execution_count": 11,
     "metadata": {},
     "output_type": "execute_result"
    }
   ],
   "source": [
    "x,t,p=sp.symbols('x,t,p', real=True, positive=True)\n",
    "equ=sp.Eq(demand(p),supply(p,t))\n",
    "equ\n",
    "\n",
    "#Likevekts betingelse"
   ]
  },
  {
   "cell_type": "code",
   "execution_count": 4,
   "id": "c7ea7d50-aa3f-4860-99db-fab61a457151",
   "metadata": {},
   "outputs": [
    {
     "data": {
      "text/plain": [
       "[0.573333333333333*t + 80.0]"
      ]
     },
     "execution_count": 12,
     "metadata": {},
     "output_type": "execute_result"
    }
   ],
   "source": [
    "eq_p=sp.solve(equ,p)\n",
    "eq_p\n",
    "#Pris likevekt, funksjon"
   ]
  },
  {
   "cell_type": "code",
   "execution_count": 13,
   "id": "bd5a2900-0bd1-4b74-a698-5815ef445869",
   "metadata": {},
   "outputs": [
    {
     "data": {
      "text/latex": [
       "$\\displaystyle 244.0 - 1.83466666666667 t$"
      ],
      "text/plain": [
       "244.0 - 1.83466666666667*t"
      ]
     },
     "execution_count": 13,
     "metadata": {},
     "output_type": "execute_result"
    }
   ],
   "source": [
    "eq_t=supply(eq_p[0],t)\n",
    "eq_t\n",
    "#Kvantum likevekt, funksjon"
   ]
  },
  {
   "cell_type": "code",
   "execution_count": 22,
   "id": "70cd99e9-9ecf-4a68-958c-5cb1305d5281",
   "metadata": {},
   "outputs": [
    {
     "data": {
      "text/latex": [
       "$\\displaystyle 244.0 - 1.83466666666667 t$"
      ],
      "text/plain": [
       "244.0 - 1.83466666666667*t"
      ]
     },
     "execution_count": 22,
     "metadata": {},
     "output_type": "execute_result"
    }
   ],
   "source": [
    "eq_t_fn=sp.lambdify(\n",
    "    (t),\n",
    "    eq_t\n",
    ")\n",
    "\n",
    "eq_t_fn(t)"
   ]
  },
  {
   "cell_type": "code",
   "execution_count": 23,
   "id": "587c27cc-f93b-4e68-801e-e6b282d8825a",
   "metadata": {},
   "outputs": [
    {
     "data": {
      "text/latex": [
       "$\\displaystyle 0.573333333333333 t + 80.0$"
      ],
      "text/plain": [
       "0.573333333333333*t + 80.0"
      ]
     },
     "execution_count": 23,
     "metadata": {},
     "output_type": "execute_result"
    }
   ],
   "source": [
    "eq_p_fn=sp.lambdify(\n",
    "    (t), \n",
    "    eq_p[0]\n",
    ")\n",
    "\n",
    "eq_p_fn(t)"
   ]
  },
  {
   "cell_type": "code",
   "execution_count": 24,
   "id": "53cfe30b-4a4a-4d4e-ae36-c3ba46001211",
   "metadata": {},
   "outputs": [
    {
     "data": {
      "text/plain": [
       "244.0"
      ]
     },
     "execution_count": 24,
     "metadata": {},
     "output_type": "execute_result"
    }
   ],
   "source": [
    "eq_t_fn(0)\n",
    "\n",
    "#Likevekts kvantum uten avgift"
   ]
  },
  {
   "cell_type": "code",
   "execution_count": 26,
   "id": "9218be60-160e-41d4-af0a-c8e01e01de8c",
   "metadata": {},
   "outputs": [
    {
     "data": {
      "text/plain": [
       "236.66133333333332"
      ]
     },
     "execution_count": 26,
     "metadata": {},
     "output_type": "execute_result"
    }
   ],
   "source": [
    "eq_t_fn(4)\n",
    "\n",
    "#Likevekts kvantum med avgift"
   ]
  },
  {
   "cell_type": "code",
   "execution_count": 28,
   "id": "c37b2d00-45fc-448b-acc5-2db9a318d6cc",
   "metadata": {},
   "outputs": [
    {
     "data": {
      "text/plain": [
       "80.0"
      ]
     },
     "execution_count": 28,
     "metadata": {},
     "output_type": "execute_result"
    }
   ],
   "source": [
    "eq_p_fn(0)\n",
    "\n",
    "#Likevekts pris uten avgift"
   ]
  },
  {
   "cell_type": "code",
   "execution_count": 30,
   "id": "039fee76-54c6-43f6-82ae-bacd5c7ff3b7",
   "metadata": {},
   "outputs": [
    {
     "data": {
      "text/plain": [
       "82.29333333333334"
      ]
     },
     "execution_count": 30,
     "metadata": {},
     "output_type": "execute_result"
    }
   ],
   "source": [
    "eq_p_fn(4)\n",
    "\n",
    "#Likevekts pris med avgift"
   ]
  },
  {
   "cell_type": "code",
   "execution_count": 79,
   "id": "6a19a42e-1c58-4e84-8870-8bede84435e9",
   "metadata": {},
   "outputs": [
    {
     "data": {
      "text/plain": [
       "<matplotlib.collections.PolyCollection at 0x7f7ae5bd83d0>"
      ]
     },
     "execution_count": 79,
     "metadata": {},
     "output_type": "execute_result"
    },
    {
     "data": {
      "image/png": "[encoded data removed]",
      "text/plain": [
       "<Figure size 640x480 with 1 Axes>"
      ]
     },
     "metadata": {},
     "output_type": "display_data"
    }
   ],
   "source": [
    "x_num=np.linspace(0.1,500,100)\n",
    "\n",
    "#lag en akse\n",
    "\n",
    "def create_ax():\n",
    "                fig, ax = plt.subplots()\n",
    "                ax.set_ylabel('Pris (p)', loc='top')\n",
    "                ax.set_xlabel('Kvantum (x)', loc='right')\n",
    "                ax.set(xlim=(0,500))\n",
    "                ax.set(ylim=(0,175))\n",
    "                ax.spines['top'].set_color('none')\n",
    "                ax.spines['right'].set_color('none')\n",
    "                \n",
    "                return fig, ax\n",
    "\n",
    "fig, ax = create_ax()\n",
    "\n",
    "# plott funksjonen\n",
    "\n",
    "ax.plot(supply(x_num, 0),x_num, label='Tilbud 1')\n",
    "ax.plot(demand(x_num),x_num, label='Etterspørsel')\n",
    "ax.plot(supply(x_num, 4),x_num, label='Tilbud 2')\n",
    "\n",
    "# tittel\n",
    "ax.set_title('Markedslikevekt')\n",
    "\n",
    "#vis navnene:\n",
    "ax.legend(bbox_to_anchor=(1.5,0.6));\n",
    "\n",
    "ax.hlines(eq_p_fn(0),0,eq_t_fn(0), color='black',ls='dashed', label='p_eq')\n",
    "ax.vlines(eq_t_fn(0),0,eq_p_fn(0), color='black',ls='dashed', label='t_eq')\n",
    "\n",
    "ax.fill_between(x_num,demand(x_num),0, color = \"green\",alpha = 0.3,label='Konsumentoverskudd')\n",
    "ax.fill_between(x_num,supply(x_num,0),80, color = \"red\",alpha = 0.3,label='Produsentoverskudd')\n",
    "\n",
    "\n",
    "#Ble mye tull her, men med at jupyter låste meg ute fikk jeg ikke jobbet så mye på den som jeg ville."
   ]
  },
  {
   "cell_type": "code",
   "execution_count": null,
   "id": "cbf2cf93-6767-4c6a-a9ae-0430a27716fc",
   "metadata": {},
   "outputs": [],
   "source": []
  },
  {
   "cell_type": "markdown",
   "id": "084dccba-b3e9-42fb-8f86-edaf6f019056",
   "metadata": {},
   "source": [
    "|                     | Før avgift            |Etter avgift    | Endring (etter avgift-før avgift)|\n",
    "| :-------------------| :----------------------------------------|:-------------|:---------------|\n",
    "| Konsumentpris   |     | |  |\n",
    "|Produsentpris  | |   |  |\n",
    "|Kvantum  |  |   |    |\n",
    "| Konsumentoverskudd: |  | |     |\n",
    "| Produsentoverskudd: | |  |   |\n",
    "| KO + PO:    |    | |  |\n",
    "|Skatteproveny| 0  | | |\n",
    "| Dødvektstap  |0   |   ||"
   ]
  }
 ],
 "metadata": {
  "kernelspec": {
   "display_name": "Python 3 (ipykernel)",
   "language": "python",
   "name": "python3"
  },
  "language_info": {
   "codemirror_mode": {
    "name": "ipython",
    "version": 3
   },
   "file_extension": ".py",
   "mimetype": "text/x-python",
   "name": "python",
   "nbconvert_exporter": "python",
   "pygments_lexer": "ipython3",
   "version": "3.9.15"
  }
 },
 "nbformat": 4,
 "nbformat_minor": 5
}
